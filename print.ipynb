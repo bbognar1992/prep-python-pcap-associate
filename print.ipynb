{
 "cells": [
  {
   "cell_type": "code",
   "id": "initial_id",
   "metadata": {
    "collapsed": true,
    "ExecuteTime": {
     "end_time": "2024-05-14T06:46:53.139499Z",
     "start_time": "2024-05-14T06:46:53.135402Z"
    }
   },
   "source": "print(\"Hello Word!\")",
   "outputs": [
    {
     "name": "stdout",
     "output_type": "stream",
     "text": [
      "Hello Word!\n"
     ]
    }
   ],
   "execution_count": 1
  },
  {
   "metadata": {
    "ExecuteTime": {
     "end_time": "2024-05-14T06:47:21.412915Z",
     "start_time": "2024-05-14T06:47:21.410236Z"
    }
   },
   "cell_type": "code",
   "source": "print(\"hello\", \"word\")",
   "id": "d7a096d9cab161aa",
   "outputs": [
    {
     "name": "stdout",
     "output_type": "stream",
     "text": [
      "hello word\n"
     ]
    }
   ],
   "execution_count": 2
  },
  {
   "metadata": {
    "ExecuteTime": {
     "end_time": "2024-05-14T06:49:59.637867Z",
     "start_time": "2024-05-14T06:49:59.634896Z"
    }
   },
   "cell_type": "code",
   "source": "print('I\\'m a software developer')",
   "id": "f96aa32b0fb29624",
   "outputs": [
    {
     "name": "stdout",
     "output_type": "stream",
     "text": [
      "I'm a software developer\n"
     ]
    }
   ],
   "execution_count": 6
  },
  {
   "metadata": {
    "ExecuteTime": {
     "end_time": "2024-05-14T06:50:32.716634Z",
     "start_time": "2024-05-14T06:50:32.713878Z"
    }
   },
   "cell_type": "code",
   "source": "print(\"new line\\nhere\")",
   "id": "8e3fec48e376e41e",
   "outputs": [
    {
     "name": "stdout",
     "output_type": "stream",
     "text": [
      "new line\n",
      "here\n"
     ]
    }
   ],
   "execution_count": 8
  },
  {
   "metadata": {
    "ExecuteTime": {
     "end_time": "2024-05-14T06:52:34.841479Z",
     "start_time": "2024-05-14T06:52:34.839116Z"
    }
   },
   "cell_type": "code",
   "source": "print('Hahahaha', end=\"!!!\")",
   "id": "af6f9548ec711dfd",
   "outputs": [
    {
     "name": "stdout",
     "output_type": "stream",
     "text": [
      "Hahahaha!!!"
     ]
    }
   ],
   "execution_count": 9
  },
  {
   "metadata": {},
   "cell_type": "code",
   "outputs": [],
   "execution_count": null,
   "source": "",
   "id": "10cb49da4d633f4f"
  }
 ],
 "metadata": {
  "kernelspec": {
   "display_name": "Python 3",
   "language": "python",
   "name": "python3"
  },
  "language_info": {
   "codemirror_mode": {
    "name": "ipython",
    "version": 2
   },
   "file_extension": ".py",
   "mimetype": "text/x-python",
   "name": "python",
   "nbconvert_exporter": "python",
   "pygments_lexer": "ipython2",
   "version": "2.7.6"
  }
 },
 "nbformat": 4,
 "nbformat_minor": 5
}
