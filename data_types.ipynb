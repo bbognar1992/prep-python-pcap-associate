{
 "cells": [
  {
   "cell_type": "code",
   "id": "initial_id",
   "metadata": {
    "collapsed": true,
    "ExecuteTime": {
     "end_time": "2024-05-14T06:56:10.473765Z",
     "start_time": "2024-05-14T06:56:10.467374Z"
    }
   },
   "source": [
    "numer = 4\n",
    "type(numer)"
   ],
   "outputs": [
    {
     "data": {
      "text/plain": [
       "int"
      ]
     },
     "execution_count": 2,
     "metadata": {},
     "output_type": "execute_result"
    }
   ],
   "execution_count": 2
  },
  {
   "metadata": {
    "ExecuteTime": {
     "end_time": "2024-05-14T06:56:51.045382Z",
     "start_time": "2024-05-14T06:56:51.042303Z"
    }
   },
   "cell_type": "code",
   "source": [
    "print(type(4.))\n",
    "print(type(4.0))\n",
    "print(type(4.5))"
   ],
   "id": "4a1cce1872101359",
   "outputs": [
    {
     "name": "stdout",
     "output_type": "stream",
     "text": [
      "<class 'float'>\n",
      "<class 'float'>\n",
      "<class 'float'>\n"
     ]
    }
   ],
   "execution_count": 4
  },
  {
   "metadata": {
    "ExecuteTime": {
     "end_time": "2024-05-14T06:57:49.065758Z",
     "start_time": "2024-05-14T06:57:49.062749Z"
    }
   },
   "cell_type": "code",
   "source": "10e-5",
   "id": "8061a3a08a94a27d",
   "outputs": [
    {
     "data": {
      "text/plain": [
       "0.0001"
      ]
     },
     "execution_count": 11,
     "metadata": {},
     "output_type": "execute_result"
    }
   ],
   "execution_count": 11
  },
  {
   "metadata": {
    "ExecuteTime": {
     "end_time": "2024-05-14T06:58:34.468236Z",
     "start_time": "2024-05-14T06:58:34.465211Z"
    }
   },
   "cell_type": "code",
   "source": [
    "print(type('Hello'))\n",
    "print(type('4.0'))"
   ],
   "id": "649ac3f71607c5a5",
   "outputs": [
    {
     "name": "stdout",
     "output_type": "stream",
     "text": [
      "<class 'str'>\n",
      "<class 'str'>\n"
     ]
    }
   ],
   "execution_count": 12
  },
  {
   "metadata": {
    "ExecuteTime": {
     "end_time": "2024-05-14T07:00:11.539185Z",
     "start_time": "2024-05-14T07:00:11.532864Z"
    }
   },
   "cell_type": "code",
   "source": [
    "numer = 12_000_000\n",
    "print(numer)\n",
    "print(type(numer))"
   ],
   "id": "c79cd8cb9074e5c1",
   "outputs": [
    {
     "name": "stdout",
     "output_type": "stream",
     "text": [
      "12000000\n",
      "<class 'int'>\n"
     ]
    }
   ],
   "execution_count": 14
  },
  {
   "metadata": {
    "ExecuteTime": {
     "end_time": "2024-05-14T07:00:43.001086Z",
     "start_time": "2024-05-14T07:00:42.997714Z"
    }
   },
   "cell_type": "code",
   "source": "0o123 # octal number",
   "id": "c266cbcbe87add31",
   "outputs": [
    {
     "data": {
      "text/plain": [
       "83"
      ]
     },
     "execution_count": 15,
     "metadata": {},
     "output_type": "execute_result"
    }
   ],
   "execution_count": 15
  },
  {
   "metadata": {
    "ExecuteTime": {
     "end_time": "2024-05-14T07:01:36.508388Z",
     "start_time": "2024-05-14T07:01:36.505120Z"
    }
   },
   "cell_type": "code",
   "source": "0x123 # hexadecimal number",
   "id": "71ba3c6709d604c0",
   "outputs": [
    {
     "data": {
      "text/plain": [
       "291"
      ]
     },
     "execution_count": 16,
     "metadata": {},
     "output_type": "execute_result"
    }
   ],
   "execution_count": 16
  },
  {
   "metadata": {
    "ExecuteTime": {
     "end_time": "2024-05-15T12:17:47.777166Z",
     "start_time": "2024-05-15T12:17:47.773363Z"
    }
   },
   "cell_type": "code",
   "source": "2 ** 2 ** 3 # power operator is right sided",
   "id": "4feed2980bdeec1d",
   "outputs": [
    {
     "data": {
      "text/plain": [
       "256"
      ]
     },
     "execution_count": 2,
     "metadata": {},
     "output_type": "execute_result"
    }
   ],
   "execution_count": 2
  },
  {
   "metadata": {},
   "cell_type": "code",
   "outputs": [],
   "execution_count": null,
   "source": "",
   "id": "ccf995476ff99032"
  }
 ],
 "metadata": {
  "kernelspec": {
   "display_name": "Python 3",
   "language": "python",
   "name": "python3"
  },
  "language_info": {
   "codemirror_mode": {
    "name": "ipython",
    "version": 2
   },
   "file_extension": ".py",
   "mimetype": "text/x-python",
   "name": "python",
   "nbconvert_exporter": "python",
   "pygments_lexer": "ipython2",
   "version": "2.7.6"
  }
 },
 "nbformat": 4,
 "nbformat_minor": 5
}
